{
  "nbformat": 4,
  "nbformat_minor": 0,
  "metadata": {
    "colab": {
      "provenance": []
    },
    "kernelspec": {
      "name": "python3",
      "display_name": "Python 3"
    },
    "language_info": {
      "name": "python"
    }
  },
  "cells": [
    {
      "cell_type": "code",
      "execution_count": null,
      "metadata": {
        "id": "LgQ-R12qin9z"
      },
      "outputs": [],
      "source": [
        "#importing the required libaries\n",
        "import pandas as pd\n",
        "import numpy as np\n",
        "import matplotlib.pyplot as plt\n",
        "import tensorflow\n",
        "from tensorflow import keras\n",
        "import pydot"
      ]
    },
    {
      "cell_type": "code",
      "source": [
        "## creating a data_mnist dataset so that we can work on the data\n",
        "digit_mnist = keras.datasets.mnist\n",
        "(X_train_full , Y_train_full), (X_test, Y_test)= digit_mnist.load_data()"
      ],
      "metadata": {
        "colab": {
          "base_uri": "https://localhost:8080/"
        },
        "id": "CY52dQr0jGtO",
        "outputId": "3f76f9c0-4c57-4945-8113-ca0a238b863d"
      },
      "execution_count": null,
      "outputs": [
        {
          "output_type": "stream",
          "name": "stdout",
          "text": [
            "Downloading data from https://storage.googleapis.com/tensorflow/tf-keras-datasets/mnist.npz\n",
            "11490434/11490434 [==============================] - 1s 0us/step\n"
          ]
        }
      ]
    },
    {
      "cell_type": "code",
      "source": [
        "##preview of how data looks like\n",
        "plt.imshow(X_train_full[0])"
      ],
      "metadata": {
        "colab": {
          "base_uri": "https://localhost:8080/",
          "height": 447
        },
        "id": "n9yIOZj6jgUs",
        "outputId": "0d142a95-38df-40a8-d615-45262de04ddb"
      },
      "execution_count": null,
      "outputs": [
        {
          "output_type": "execute_result",
          "data": {
            "text/plain": [
              "<matplotlib.image.AxesImage at 0x7a1f07bef130>"
            ]
          },
          "metadata": {},
          "execution_count": 4
        },
        {
          "output_type": "display_data",
          "data": {
            "text/plain": [
              "<Figure size 640x480 with 1 Axes>"
            ],
            "image/png": "[encoded data removed]"
          },
          "metadata": {}
        }
      ]
    },
    {
      "cell_type": "code",
      "source": [
        "print(Y_train_full)"
      ],
      "metadata": {
        "colab": {
          "base_uri": "https://localhost:8080/"
        },
        "id": "Nzy9JTqrjlOp",
        "outputId": "b67de67a-21f9-4b4e-fdb3-58e85b970929"
      },
      "execution_count": null,
      "outputs": [
        {
          "output_type": "stream",
          "name": "stdout",
          "text": [
            "[5 0 4 ... 5 6 8]\n"
          ]
        }
      ]
    },
    {
      "cell_type": "code",
      "source": [
        "#defining the function to normalize the data\n",
        "\n",
        "def normalization(data):\n",
        "  d_max = max(data)\n",
        "  d_min = min(data)\n",
        "  norm = ((x - d_min) /(d_max - d_min) for x in data)\n",
        "  return norm\n",
        "\n",
        "data = (X_train_full ,Y_train_full)\n",
        "\n"
      ],
      "metadata": {
        "id": "JOfl4CZjoKC9"
      },
      "execution_count": null,
      "outputs": []
    },
    {
      "cell_type": "code",
      "source": [
        "## Normalization of the data\n",
        "X_train_n = X_train_full / 255.\n",
        "X_test_n = X_test / 255.\n"
      ],
      "metadata": {
        "id": "_5AlCLzipmHp"
      },
      "execution_count": null,
      "outputs": []
    },
    {
      "cell_type": "code",
      "source": [
        "## spliting up the validation data from the training set\n",
        "X_valid , X_train = X_train_n[:6000],X_train_n[6000:]\n",
        "Y_valid , Y_train = Y_train_full[:6000], Y_train_full[6000:]\n",
        "X_test_n = X_test"
      ],
      "metadata": {
        "id": "XeRfSiwsqehf"
      },
      "execution_count": null,
      "outputs": []
    },
    {
      "cell_type": "code",
      "source": [
        "model1 = tensorflow.keras.Sequential()\n",
        "model1.add(keras.layers.Flatten(input_shape = [28,28]))\n",
        "model1.add(keras.layers.Dense(200, activation = \"relu\"))\n",
        "model1.add(keras.layers.Dense(100 , activation = \"relu\"))\n",
        "model1.add(keras.layers.Dense(10,activation = \"softmax\"))\n",
        "\n"
      ],
      "metadata": {
        "id": "hLMAFajpruvA"
      },
      "execution_count": null,
      "outputs": []
    },
    {
      "cell_type": "code",
      "source": [
        "model1.summary()"
      ],
      "metadata": {
        "colab": {
          "base_uri": "https://localhost:8080/"
        },
        "id": "1gb9X9oTtG0m",
        "outputId": "3fade7ab-822b-4cda-e2ec-d639228c09c3"
      },
      "execution_count": null,
      "outputs": [
        {
          "output_type": "stream",
          "name": "stdout",
          "text": [
            "Model: \"sequential\"\n",
            "_________________________________________________________________\n",
            " Layer (type)                Output Shape              Param #   \n",
            "=================================================================\n",
            " flatten (Flatten)           (None, 784)               0         \n",
            "                                                                 \n",
            " dense (Dense)               (None, 200)               157000    \n",
            "                                                                 \n",
            " dense_1 (Dense)             (None, 100)               20100     \n",
            "                                                                 \n",
            " dense_2 (Dense)             (None, 10)                1010      \n",
            "                                                                 \n",
            "=================================================================\n",
            "Total params: 178110 (695.74 KB)\n",
            "Trainable params: 178110 (695.74 KB)\n",
            "Non-trainable params: 0 (0.00 Byte)\n",
            "_________________________________________________________________\n"
          ]
        }
      ]
    },
    {
      "cell_type": "code",
      "source": [
        "keras.utils.plot_model(model1)"
      ],
      "metadata": {
        "colab": {
          "base_uri": "https://localhost:8080/",
          "height": 466
        },
        "id": "xQ0NGcQiJ0gQ",
        "outputId": "f42421db-1f20-47a7-dd02-039011386cb3"
      },
      "execution_count": null,
      "outputs": [
        {
          "output_type": "execute_result",
          "data": {
            "image/png": "[encoded data removed]",
            "text/plain": [
              "<IPython.core.display.Image object>"
            ]
          },
          "metadata": {},
          "execution_count": 12
        }
      ]
    },
    {
      "cell_type": "code",
      "source": [
        "weights , biases = model1.layers[1].get_weights()\n",
        "weights.shape"
      ],
      "metadata": {
        "colab": {
          "base_uri": "https://localhost:8080/"
        },
        "id": "sHoeL0XduAhc",
        "outputId": "87a99dfc-e8a3-4f63-e833-bfe20984c6de"
      },
      "execution_count": null,
      "outputs": [
        {
          "output_type": "execute_result",
          "data": {
            "text/plain": [
              "(784, 200)"
            ]
          },
          "metadata": {},
          "execution_count": 13
        }
      ]
    },
    {
      "cell_type": "code",
      "source": [],
      "metadata": {
        "id": "6kaMUewRJzNW"
      },
      "execution_count": null,
      "outputs": []
    },
    {
      "cell_type": "code",
      "source": [
        "model1.compile(loss = \"sparse_categorical_crossentropy\",\n",
        "                               optimizer = \"sgd\" ,\n",
        "                               metrics = [\"accuracy\"])"
      ],
      "metadata": {
        "id": "V1ldKkXutU9M"
      },
      "execution_count": null,
      "outputs": []
    },
    {
      "cell_type": "code",
      "source": [
        "model_history = model1.fit(X_train , Y_train , epochs = 60 ,validation_data =( X_valid , Y_valid) , verbose='auto')"
      ],
      "metadata": {
        "colab": {
          "base_uri": "https://localhost:8080/"
        },
        "id": "eYD9XEpyt0c8",
        "outputId": "41291e30-9194-42e3-a168-1aea36b75f9b"
      },
      "execution_count": null,
      "outputs": [
        {
          "output_type": "stream",
          "name": "stdout",
          "text": [
            "Epoch 1/60\n",
            "1688/1688 [==============================] - 7s 4ms/step - loss: 0.0080 - accuracy: 0.9994 - val_loss: 0.0799 - val_accuracy: 0.9785\n",
            "Epoch 2/60\n",
            "1688/1688 [==============================] - 6s 4ms/step - loss: 0.0077 - accuracy: 0.9995 - val_loss: 0.0812 - val_accuracy: 0.9782\n",
            "Epoch 3/60\n",
            "1688/1688 [==============================] - 8s 4ms/step - loss: 0.0073 - accuracy: 0.9996 - val_loss: 0.0807 - val_accuracy: 0.9785\n",
            "Epoch 4/60\n",
            "1688/1688 [==============================] - 6s 4ms/step - loss: 0.0071 - accuracy: 0.9996 - val_loss: 0.0808 - val_accuracy: 0.9780\n",
            "Epoch 5/60\n",
            "1688/1688 [==============================] - 7s 4ms/step - loss: 0.0068 - accuracy: 0.9996 - val_loss: 0.0801 - val_accuracy: 0.9785\n",
            "Epoch 6/60\n",
            "1688/1688 [==============================] - 6s 4ms/step - loss: 0.0066 - accuracy: 0.9996 - val_loss: 0.0832 - val_accuracy: 0.9773\n",
            "Epoch 7/60\n",
            "1688/1688 [==============================] - 7s 4ms/step - loss: 0.0064 - accuracy: 0.9997 - val_loss: 0.0822 - val_accuracy: 0.9775\n",
            "Epoch 8/60\n",
            "1688/1688 [==============================] - 6s 4ms/step - loss: 0.0061 - accuracy: 0.9997 - val_loss: 0.0807 - val_accuracy: 0.9785\n",
            "Epoch 9/60\n",
            "1688/1688 [==============================] - 7s 4ms/step - loss: 0.0060 - accuracy: 0.9997 - val_loss: 0.0821 - val_accuracy: 0.9782\n",
            "Epoch 10/60\n",
            "1688/1688 [==============================] - 6s 3ms/step - loss: 0.0057 - accuracy: 0.9998 - val_loss: 0.0813 - val_accuracy: 0.9780\n",
            "Epoch 11/60\n",
            "1688/1688 [==============================] - 7s 4ms/step - loss: 0.0055 - accuracy: 0.9998 - val_loss: 0.0811 - val_accuracy: 0.9790\n",
            "Epoch 12/60\n",
            "1688/1688 [==============================] - 6s 4ms/step - loss: 0.0053 - accuracy: 0.9998 - val_loss: 0.0818 - val_accuracy: 0.9788\n",
            "Epoch 13/60\n",
            "1688/1688 [==============================] - 7s 4ms/step - loss: 0.0052 - accuracy: 0.9998 - val_loss: 0.0820 - val_accuracy: 0.9792\n",
            "Epoch 14/60\n",
            "1688/1688 [==============================] - 6s 3ms/step - loss: 0.0050 - accuracy: 0.9998 - val_loss: 0.0826 - val_accuracy: 0.9777\n",
            "Epoch 15/60\n",
            "1688/1688 [==============================] - 8s 4ms/step - loss: 0.0048 - accuracy: 0.9998 - val_loss: 0.0832 - val_accuracy: 0.9785\n",
            "Epoch 16/60\n",
            "1688/1688 [==============================] - 6s 4ms/step - loss: 0.0047 - accuracy: 0.9999 - val_loss: 0.0830 - val_accuracy: 0.9780\n",
            "Epoch 17/60\n",
            "1688/1688 [==============================] - 7s 4ms/step - loss: 0.0045 - accuracy: 0.9999 - val_loss: 0.0842 - val_accuracy: 0.9780\n",
            "Epoch 18/60\n",
            "1688/1688 [==============================] - 6s 4ms/step - loss: 0.0044 - accuracy: 0.9999 - val_loss: 0.0828 - val_accuracy: 0.9775\n",
            "Epoch 19/60\n",
            "1688/1688 [==============================] - 7s 4ms/step - loss: 0.0043 - accuracy: 0.9999 - val_loss: 0.0827 - val_accuracy: 0.9783\n",
            "Epoch 20/60\n",
            "1688/1688 [==============================] - 6s 4ms/step - loss: 0.0041 - accuracy: 0.9999 - val_loss: 0.0840 - val_accuracy: 0.9780\n",
            "Epoch 21/60\n",
            "1688/1688 [==============================] - 7s 4ms/step - loss: 0.0040 - accuracy: 0.9999 - val_loss: 0.0840 - val_accuracy: 0.9790\n",
            "Epoch 22/60\n",
            "1688/1688 [==============================] - 6s 4ms/step - loss: 0.0039 - accuracy: 0.9999 - val_loss: 0.0838 - val_accuracy: 0.9783\n",
            "Epoch 23/60\n",
            "1688/1688 [==============================] - 7s 4ms/step - loss: 0.0038 - accuracy: 0.9999 - val_loss: 0.0838 - val_accuracy: 0.9785\n",
            "Epoch 24/60\n",
            "1688/1688 [==============================] - 6s 4ms/step - loss: 0.0037 - accuracy: 0.9999 - val_loss: 0.0836 - val_accuracy: 0.9783\n",
            "Epoch 25/60\n",
            "1688/1688 [==============================] - 8s 4ms/step - loss: 0.0036 - accuracy: 0.9999 - val_loss: 0.0850 - val_accuracy: 0.9785\n",
            "Epoch 26/60\n",
            "1688/1688 [==============================] - 6s 4ms/step - loss: 0.0035 - accuracy: 1.0000 - val_loss: 0.0842 - val_accuracy: 0.9787\n",
            "Epoch 27/60\n",
            "1688/1688 [==============================] - 7s 4ms/step - loss: 0.0034 - accuracy: 0.9999 - val_loss: 0.0855 - val_accuracy: 0.9777\n",
            "Epoch 28/60\n",
            "1688/1688 [==============================] - 6s 4ms/step - loss: 0.0033 - accuracy: 1.0000 - val_loss: 0.0848 - val_accuracy: 0.9785\n",
            "Epoch 29/60\n",
            "1688/1688 [==============================] - 7s 4ms/step - loss: 0.0032 - accuracy: 1.0000 - val_loss: 0.0856 - val_accuracy: 0.9782\n",
            "Epoch 30/60\n",
            "1688/1688 [==============================] - 6s 4ms/step - loss: 0.0031 - accuracy: 0.9999 - val_loss: 0.0865 - val_accuracy: 0.9780\n",
            "Epoch 31/60\n",
            "1688/1688 [==============================] - 8s 5ms/step - loss: 0.0030 - accuracy: 1.0000 - val_loss: 0.0859 - val_accuracy: 0.9780\n",
            "Epoch 32/60\n",
            "1688/1688 [==============================] - 6s 4ms/step - loss: 0.0030 - accuracy: 0.9999 - val_loss: 0.0858 - val_accuracy: 0.9788\n",
            "Epoch 33/60\n",
            "1688/1688 [==============================] - 7s 4ms/step - loss: 0.0029 - accuracy: 1.0000 - val_loss: 0.0860 - val_accuracy: 0.9787\n",
            "Epoch 34/60\n",
            "1688/1688 [==============================] - 6s 4ms/step - loss: 0.0028 - accuracy: 1.0000 - val_loss: 0.0858 - val_accuracy: 0.9793\n",
            "Epoch 35/60\n",
            "1688/1688 [==============================] - 7s 4ms/step - loss: 0.0028 - accuracy: 1.0000 - val_loss: 0.0854 - val_accuracy: 0.9790\n",
            "Epoch 36/60\n",
            "1688/1688 [==============================] - 6s 4ms/step - loss: 0.0027 - accuracy: 1.0000 - val_loss: 0.0861 - val_accuracy: 0.9787\n",
            "Epoch 37/60\n",
            "1688/1688 [==============================] - 7s 4ms/step - loss: 0.0026 - accuracy: 1.0000 - val_loss: 0.0868 - val_accuracy: 0.9788\n",
            "Epoch 38/60\n",
            "1688/1688 [==============================] - 6s 4ms/step - loss: 0.0026 - accuracy: 1.0000 - val_loss: 0.0871 - val_accuracy: 0.9783\n",
            "Epoch 39/60\n",
            "1688/1688 [==============================] - 7s 4ms/step - loss: 0.0025 - accuracy: 0.9999 - val_loss: 0.0869 - val_accuracy: 0.9780\n",
            "Epoch 40/60\n",
            "1688/1688 [==============================] - 6s 4ms/step - loss: 0.0025 - accuracy: 1.0000 - val_loss: 0.0867 - val_accuracy: 0.9795\n",
            "Epoch 41/60\n",
            "1688/1688 [==============================] - 7s 4ms/step - loss: 0.0024 - accuracy: 1.0000 - val_loss: 0.0877 - val_accuracy: 0.9787\n",
            "Epoch 42/60\n",
            "1688/1688 [==============================] - 6s 4ms/step - loss: 0.0024 - accuracy: 1.0000 - val_loss: 0.0875 - val_accuracy: 0.9787\n",
            "Epoch 43/60\n",
            "1688/1688 [==============================] - 8s 4ms/step - loss: 0.0023 - accuracy: 1.0000 - val_loss: 0.0877 - val_accuracy: 0.9787\n",
            "Epoch 44/60\n",
            "1688/1688 [==============================] - 6s 4ms/step - loss: 0.0023 - accuracy: 1.0000 - val_loss: 0.0875 - val_accuracy: 0.9790\n",
            "Epoch 45/60\n",
            "1688/1688 [==============================] - 7s 4ms/step - loss: 0.0022 - accuracy: 1.0000 - val_loss: 0.0875 - val_accuracy: 0.9785\n",
            "Epoch 46/60\n",
            "1688/1688 [==============================] - 6s 3ms/step - loss: 0.0022 - accuracy: 1.0000 - val_loss: 0.0884 - val_accuracy: 0.9778\n",
            "Epoch 47/60\n",
            "1688/1688 [==============================] - 7s 4ms/step - loss: 0.0022 - accuracy: 1.0000 - val_loss: 0.0881 - val_accuracy: 0.9785\n",
            "Epoch 48/60\n",
            "1688/1688 [==============================] - 6s 4ms/step - loss: 0.0021 - accuracy: 1.0000 - val_loss: 0.0890 - val_accuracy: 0.9782\n",
            "Epoch 49/60\n",
            "1688/1688 [==============================] - 7s 4ms/step - loss: 0.0021 - accuracy: 1.0000 - val_loss: 0.0891 - val_accuracy: 0.9780\n",
            "Epoch 50/60\n",
            "1688/1688 [==============================] - 6s 4ms/step - loss: 0.0020 - accuracy: 1.0000 - val_loss: 0.0886 - val_accuracy: 0.9788\n",
            "Epoch 51/60\n",
            "1688/1688 [==============================] - 7s 4ms/step - loss: 0.0020 - accuracy: 1.0000 - val_loss: 0.0890 - val_accuracy: 0.9787\n",
            "Epoch 52/60\n",
            "1688/1688 [==============================] - 6s 4ms/step - loss: 0.0020 - accuracy: 1.0000 - val_loss: 0.0899 - val_accuracy: 0.9783\n",
            "Epoch 53/60\n",
            "1688/1688 [==============================] - 7s 4ms/step - loss: 0.0019 - accuracy: 1.0000 - val_loss: 0.0887 - val_accuracy: 0.9795\n",
            "Epoch 54/60\n",
            "1688/1688 [==============================] - 6s 4ms/step - loss: 0.0019 - accuracy: 1.0000 - val_loss: 0.0893 - val_accuracy: 0.9788\n",
            "Epoch 55/60\n",
            "1688/1688 [==============================] - 7s 4ms/step - loss: 0.0019 - accuracy: 1.0000 - val_loss: 0.0894 - val_accuracy: 0.9785\n",
            "Epoch 56/60\n",
            "1688/1688 [==============================] - 6s 4ms/step - loss: 0.0018 - accuracy: 1.0000 - val_loss: 0.0890 - val_accuracy: 0.9793\n",
            "Epoch 57/60\n",
            "1688/1688 [==============================] - 7s 4ms/step - loss: 0.0018 - accuracy: 1.0000 - val_loss: 0.0892 - val_accuracy: 0.9787\n",
            "Epoch 58/60\n",
            "1688/1688 [==============================] - 6s 4ms/step - loss: 0.0018 - accuracy: 1.0000 - val_loss: 0.0900 - val_accuracy: 0.9787\n",
            "Epoch 59/60\n",
            "1688/1688 [==============================] - 7s 4ms/step - loss: 0.0017 - accuracy: 1.0000 - val_loss: 0.0901 - val_accuracy: 0.9788\n",
            "Epoch 60/60\n",
            "1688/1688 [==============================] - 6s 4ms/step - loss: 0.0017 - accuracy: 1.0000 - val_loss: 0.0895 - val_accuracy: 0.9787\n"
          ]
        }
      ]
    },
    {
      "cell_type": "code",
      "source": [
        "model_history.params"
      ],
      "metadata": {
        "colab": {
          "base_uri": "https://localhost:8080/"
        },
        "id": "5XCKYdzLvOQL",
        "outputId": "0cdea249-16cb-4fa9-c8cd-bb3cdc03ca0f"
      },
      "execution_count": null,
      "outputs": [
        {
          "output_type": "execute_result",
          "data": {
            "text/plain": [
              "{'verbose': 1, 'epochs': 60, 'steps': 1688}"
            ]
          },
          "metadata": {},
          "execution_count": 19
        }
      ]
    },
    {
      "cell_type": "code",
      "source": [
        "pd.DataFrame(model_history.history).plot(figsize = [8,6])\n",
        "plt.grid(True)\n",
        "plt.gca().set_ylim(0,1)\n",
        "plt.imshow"
      ],
      "metadata": {
        "colab": {
          "base_uri": "https://localhost:8080/",
          "height": 563
        },
        "id": "y-TioVX-1EqY",
        "outputId": "d4abdaa8-8931-43d2-9d61-4ed3d3305b1e"
      },
      "execution_count": null,
      "outputs": [
        {
          "output_type": "execute_result",
          "data": {
            "text/plain": [
              "<function matplotlib.pyplot.imshow(X, cmap=None, norm=None, *, aspect=None, interpolation=None, alpha=None, vmin=None, vmax=None, origin=None, extent=None, interpolation_stage=None, filternorm=True, filterrad=4.0, resample=None, url=None, data=None, **kwargs)>"
            ]
          },
          "metadata": {},
          "execution_count": 20
        },
        {
          "output_type": "display_data",
          "data": {
            "text/plain": [
              "<Figure size 800x600 with 1 Axes>"
            ],
            "image/png": "[encoded data removed]"
          },
          "metadata": {}
        }
      ]
    },
    {
      "cell_type": "code",
      "source": [
        "model1.evaluate(X_test , Y_test)"
      ],
      "metadata": {
        "id": "MUDE_8bC1uSi",
        "colab": {
          "base_uri": "https://localhost:8080/"
        },
        "outputId": "b0768292-f3ef-4d19-d2b3-17b45a252bb6"
      },
      "execution_count": null,
      "outputs": [
        {
          "output_type": "stream",
          "name": "stdout",
          "text": [
            "313/313 [==============================] - 1s 3ms/step - loss: 24.5289 - accuracy: 0.9734\n"
          ]
        },
        {
          "output_type": "execute_result",
          "data": {
            "text/plain": [
              "[24.5289249420166, 0.9733999967575073]"
            ]
          },
          "metadata": {},
          "execution_count": 21
        }
      ]
    },
    {
      "cell_type": "code",
      "source": [
        "X_new = X_test[:3]"
      ],
      "metadata": {
        "id": "6OqwninjP0-E"
      },
      "execution_count": null,
      "outputs": []
    },
    {
      "cell_type": "code",
      "source": [
        "y_prob = model1.predict(X_new)\n",
        "y_prob.round(2)"
      ],
      "metadata": {
        "colab": {
          "base_uri": "https://localhost:8080/"
        },
        "id": "pmmgkdETP-Le",
        "outputId": "47a3d5d9-ed7f-45a7-d348-ae6dfd09ab7e"
      },
      "execution_count": null,
      "outputs": [
        {
          "output_type": "stream",
          "name": "stdout",
          "text": [
            "1/1 [==============================] - 0s 99ms/step\n"
          ]
        },
        {
          "output_type": "execute_result",
          "data": {
            "text/plain": [
              "array([[0., 0., 0., 0., 0., 0., 0., 1., 0., 0.],\n",
              "       [0., 0., 1., 0., 0., 0., 0., 0., 0., 0.],\n",
              "       [0., 1., 0., 0., 0., 0., 0., 0., 0., 0.]], dtype=float32)"
            ]
          },
          "metadata": {},
          "execution_count": 25
        }
      ]
    },
    {
      "cell_type": "code",
      "source": [
        "y_pred = np.argmax(model1.predict(X_new), axis = 1)\n",
        "y_pred"
      ],
      "metadata": {
        "colab": {
          "base_uri": "https://localhost:8080/"
        },
        "id": "mHTU45HgQJCB",
        "outputId": "450e12d7-f42a-48fd-a0fd-7d8bcb82d7e2"
      },
      "execution_count": null,
      "outputs": [
        {
          "output_type": "stream",
          "name": "stdout",
          "text": [
            "1/1 [==============================] - 0s 33ms/step\n"
          ]
        },
        {
          "output_type": "execute_result",
          "data": {
            "text/plain": [
              "array([7, 2, 1])"
            ]
          },
          "metadata": {},
          "execution_count": 26
        }
      ]
    },
    {
      "cell_type": "code",
      "source": [
        "np.array(y_pred)"
      ],
      "metadata": {
        "colab": {
          "base_uri": "https://localhost:8080/"
        },
        "id": "DWh7DfizQx_N",
        "outputId": "8432fd61-eb2c-4f65-b5ed-fa64fe33ff7d"
      },
      "execution_count": null,
      "outputs": [
        {
          "output_type": "execute_result",
          "data": {
            "text/plain": [
              "array([7, 2, 1])"
            ]
          },
          "metadata": {},
          "execution_count": 29
        }
      ]
    },
    {
      "cell_type": "code",
      "source": [
        "plt.imshow(X_new[0])"
      ],
      "metadata": {
        "colab": {
          "base_uri": "https://localhost:8080/",
          "height": 447
        },
        "id": "Oz-hX5k1RTM3",
        "outputId": "356a8bb9-c26d-4950-d46e-519c5ac1a4ee"
      },
      "execution_count": null,
      "outputs": [
        {
          "output_type": "execute_result",
          "data": {
            "text/plain": [
              "<matplotlib.image.AxesImage at 0x7a1ee8b34400>"
            ]
          },
          "metadata": {},
          "execution_count": 30
        },
        {
          "output_type": "display_data",
          "data": {
            "text/plain": [
              "<Figure size 640x480 with 1 Axes>"
            ],
            "image/png": "[encoded data removed]"
          },
          "metadata": {}
        }
      ]
    },
    {
      "cell_type": "code",
      "source": [],
      "metadata": {
        "id": "h-XYNsTKRtGZ"
      },
      "execution_count": null,
      "outputs": []
    }
  ]
}